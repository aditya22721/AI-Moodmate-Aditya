{
 "cells": [
  {
   "cell_type": "code",
   "execution_count": 1,
   "id": "c87e339f",
   "metadata": {},
   "outputs": [
    {
     "name": "stdout",
     "output_type": "stream",
     "text": [
      "Requirement already satisfied: opencv-python in c:\\users\\adity\\appdata\\local\\programs\\python\\python310\\lib\\site-packages (4.12.0.88)\n",
      "Requirement already satisfied: numpy<2.3.0,>=2 in c:\\users\\adity\\appdata\\local\\programs\\python\\python310\\lib\\site-packages (from opencv-python) (2.2.6)\n"
     ]
    },
    {
     "name": "stderr",
     "output_type": "stream",
     "text": [
      "\n",
      "[notice] A new release of pip available: 22.3.1 -> 25.2\n",
      "[notice] To update, run: python.exe -m pip install --upgrade pip\n"
     ]
    },
    {
     "name": "stdout",
     "output_type": "stream",
     "text": [
      "Collecting tensorflow\n",
      "  Downloading tensorflow-2.20.0-cp310-cp310-win_amd64.whl (331.7 MB)\n",
      "     -------------------------------------- 331.7/331.7 MB 2.9 MB/s eta 0:00:00\n",
      "Requirement already satisfied: setuptools in c:\\users\\adity\\appdata\\local\\programs\\python\\python310\\lib\\site-packages (from tensorflow) (65.5.0)\n",
      "Collecting opt_einsum>=2.3.2\n",
      "  Downloading opt_einsum-3.4.0-py3-none-any.whl (71 kB)\n",
      "     ---------------------------------------- 71.9/71.9 kB 4.1 MB/s eta 0:00:00\n",
      "Collecting astunparse>=1.6.0\n",
      "  Downloading astunparse-1.6.3-py2.py3-none-any.whl (12 kB)\n",
      "Collecting flatbuffers>=24.3.25\n",
      "  Downloading flatbuffers-25.9.23-py2.py3-none-any.whl (30 kB)\n",
      "Collecting h5py>=3.11.0\n",
      "  Downloading h5py-3.14.0-cp310-cp310-win_amd64.whl (2.9 MB)\n",
      "     ---------------------------------------- 2.9/2.9 MB 5.2 MB/s eta 0:00:00\n",
      "Collecting absl-py>=1.0.0\n",
      "  Downloading absl_py-2.3.1-py3-none-any.whl (135 kB)\n",
      "     -------------------------------------- 135.8/135.8 kB 7.8 MB/s eta 0:00:00\n",
      "Requirement already satisfied: numpy>=1.26.0 in c:\\users\\adity\\appdata\\local\\programs\\python\\python310\\lib\\site-packages (from tensorflow) (2.2.6)\n",
      "Collecting tensorboard~=2.20.0\n",
      "  Downloading tensorboard-2.20.0-py3-none-any.whl (5.5 MB)\n",
      "     ---------------------------------------- 5.5/5.5 MB 6.0 MB/s eta 0:00:00\n",
      "Collecting ml_dtypes<1.0.0,>=0.5.1\n",
      "  Downloading ml_dtypes-0.5.3-cp310-cp310-win_amd64.whl (206 kB)\n",
      "     -------------------------------------- 206.3/206.3 kB 6.3 MB/s eta 0:00:00\n",
      "Collecting google_pasta>=0.1.1\n",
      "  Downloading google_pasta-0.2.0-py3-none-any.whl (57 kB)\n",
      "     ---------------------------------------- 57.5/57.5 kB ? eta 0:00:00\n",
      "Collecting requests<3,>=2.21.0\n",
      "  Downloading requests-2.32.5-py3-none-any.whl (64 kB)\n",
      "     ---------------------------------------- 64.7/64.7 kB 3.6 MB/s eta 0:00:00\n",
      "Collecting libclang>=13.0.0\n",
      "  Downloading libclang-18.1.1-py2.py3-none-win_amd64.whl (26.4 MB)\n",
      "     ---------------------------------------- 26.4/26.4 MB 5.2 MB/s eta 0:00:00\n",
      "Collecting grpcio<2.0,>=1.24.3\n",
      "  Downloading grpcio-1.75.1-cp310-cp310-win_amd64.whl (4.6 MB)\n",
      "     ---------------------------------------- 4.6/4.6 MB 6.1 MB/s eta 0:00:00\n",
      "Requirement already satisfied: typing_extensions>=3.6.6 in c:\\users\\adity\\appdata\\roaming\\python\\python310\\site-packages (from tensorflow) (4.15.0)\n",
      "Collecting termcolor>=1.1.0\n",
      "  Downloading termcolor-3.1.0-py3-none-any.whl (7.7 kB)\n",
      "Requirement already satisfied: six>=1.12.0 in c:\\users\\adity\\appdata\\roaming\\python\\python310\\site-packages (from tensorflow) (1.17.0)\n",
      "Collecting wrapt>=1.11.0\n",
      "  Downloading wrapt-1.17.3-cp310-cp310-win_amd64.whl (38 kB)\n",
      "Collecting keras>=3.10.0\n",
      "  Downloading keras-3.11.3-py3-none-any.whl (1.4 MB)\n",
      "     ---------------------------------------- 1.4/1.4 MB 8.9 MB/s eta 0:00:00\n",
      "Collecting gast!=0.5.0,!=0.5.1,!=0.5.2,>=0.2.1\n",
      "  Downloading gast-0.6.0-py3-none-any.whl (21 kB)\n",
      "Requirement already satisfied: packaging in c:\\users\\adity\\appdata\\roaming\\python\\python310\\site-packages (from tensorflow) (25.0)\n",
      "Collecting protobuf>=5.28.0\n",
      "  Downloading protobuf-6.32.1-cp310-abi3-win_amd64.whl (435 kB)\n",
      "     -------------------------------------- 435.7/435.7 kB 6.8 MB/s eta 0:00:00\n",
      "Collecting wheel<1.0,>=0.23.0\n",
      "  Downloading wheel-0.45.1-py3-none-any.whl (72 kB)\n",
      "     ---------------------------------------- 72.5/72.5 kB ? eta 0:00:00\n",
      "Collecting rich\n",
      "  Downloading rich-14.1.0-py3-none-any.whl (243 kB)\n",
      "     ------------------------------------- 243.4/243.4 kB 15.5 MB/s eta 0:00:00\n",
      "Collecting optree\n",
      "  Downloading optree-0.17.0-cp310-cp310-win_amd64.whl (304 kB)\n",
      "     -------------------------------------- 304.4/304.4 kB 6.3 MB/s eta 0:00:00\n",
      "Collecting namex\n",
      "  Downloading namex-0.1.0-py3-none-any.whl (5.9 kB)\n",
      "Collecting idna<4,>=2.5\n",
      "  Downloading idna-3.10-py3-none-any.whl (70 kB)\n",
      "     ---------------------------------------- 70.4/70.4 kB ? eta 0:00:00\n",
      "Collecting charset_normalizer<4,>=2\n",
      "  Downloading charset_normalizer-3.4.3-cp310-cp310-win_amd64.whl (107 kB)\n",
      "     -------------------------------------- 107.5/107.5 kB 6.5 MB/s eta 0:00:00\n",
      "Collecting certifi>=2017.4.17\n",
      "  Downloading certifi-2025.10.5-py3-none-any.whl (163 kB)\n",
      "     -------------------------------------- 163.3/163.3 kB 9.6 MB/s eta 0:00:00\n",
      "Collecting urllib3<3,>=1.21.1\n",
      "  Downloading urllib3-2.5.0-py3-none-any.whl (129 kB)\n",
      "     -------------------------------------- 129.8/129.8 kB 7.5 MB/s eta 0:00:00\n",
      "Collecting tensorboard-data-server<0.8.0,>=0.7.0\n",
      "  Downloading tensorboard_data_server-0.7.2-py3-none-any.whl (2.4 kB)\n",
      "Collecting pillow\n",
      "  Downloading pillow-11.3.0-cp310-cp310-win_amd64.whl (7.0 MB)\n",
      "     ---------------------------------------- 7.0/7.0 MB 5.7 MB/s eta 0:00:00\n",
      "Collecting markdown>=2.6.8\n",
      "  Downloading markdown-3.9-py3-none-any.whl (107 kB)\n",
      "     -------------------------------------- 107.4/107.4 kB 6.1 MB/s eta 0:00:00\n",
      "Collecting werkzeug>=1.0.1\n",
      "  Downloading werkzeug-3.1.3-py3-none-any.whl (224 kB)\n",
      "     ------------------------------------- 224.5/224.5 kB 14.3 MB/s eta 0:00:00\n",
      "Collecting MarkupSafe>=2.1.1\n",
      "  Downloading markupsafe-3.0.3-cp310-cp310-win_amd64.whl (15 kB)\n",
      "Collecting markdown-it-py>=2.2.0\n",
      "  Downloading markdown_it_py-4.0.0-py3-none-any.whl (87 kB)\n",
      "     ---------------------------------------- 87.3/87.3 kB 4.8 MB/s eta 0:00:00\n",
      "Requirement already satisfied: pygments<3.0.0,>=2.13.0 in c:\\users\\adity\\appdata\\roaming\\python\\python310\\site-packages (from rich->keras>=3.10.0->tensorflow) (2.19.2)\n",
      "Collecting mdurl~=0.1\n",
      "  Downloading mdurl-0.1.2-py3-none-any.whl (10.0 kB)\n",
      "Installing collected packages: namex, libclang, flatbuffers, wrapt, wheel, urllib3, termcolor, tensorboard-data-server, protobuf, pillow, optree, opt_einsum, ml_dtypes, mdurl, MarkupSafe, markdown, idna, h5py, grpcio, google_pasta, gast, charset_normalizer, certifi, absl-py, werkzeug, requests, markdown-it-py, astunparse, tensorboard, rich, keras, tensorflow\n",
      "Successfully installed MarkupSafe-3.0.3 absl-py-2.3.1 astunparse-1.6.3 certifi-2025.10.5 charset_normalizer-3.4.3 flatbuffers-25.9.23 gast-0.6.0 google_pasta-0.2.0 grpcio-1.75.1 h5py-3.14.0 idna-3.10 keras-3.11.3 libclang-18.1.1 markdown-3.9 markdown-it-py-4.0.0 mdurl-0.1.2 ml_dtypes-0.5.3 namex-0.1.0 opt_einsum-3.4.0 optree-0.17.0 pillow-11.3.0 protobuf-6.32.1 requests-2.32.5 rich-14.1.0 tensorboard-2.20.0 tensorboard-data-server-0.7.2 tensorflow-2.20.0 termcolor-3.1.0 urllib3-2.5.0 werkzeug-3.1.3 wheel-0.45.1 wrapt-1.17.3\n"
     ]
    },
    {
     "name": "stderr",
     "output_type": "stream",
     "text": [
      "\n",
      "[notice] A new release of pip available: 22.3.1 -> 25.2\n",
      "[notice] To update, run: python.exe -m pip install --upgrade pip\n"
     ]
    },
    {
     "name": "stdout",
     "output_type": "stream",
     "text": [
      "✅ Imports done\n"
     ]
    }
   ],
   "source": [
    "# ===============================\n",
    "# Cell 1: Imports & Setup\n",
    "# ===============================\n",
    "!pip install opencv-python\n",
    "!pip install tensorflow\n",
    "\n",
    "\n",
    "import cv2\n",
    "import time\n",
    "import numpy as np\n",
    "from collections import deque\n",
    "import tensorflow as tf\n",
    "from tensorflow.keras.models import load_model\n",
    "\n",
    "# Avoid GPU memory pre-allocation (optional)\n",
    "gpus = tf.config.experimental.list_physical_devices('GPU')\n",
    "if gpus:\n",
    "    try:\n",
    "        for gpu in gpus:\n",
    "            tf.config.experimental.set_memory_growth(gpu, True)\n",
    "    except:\n",
    "        pass\n",
    "\n",
    "print(\"✅ Imports done\")\n"
   ]
  },
  {
   "cell_type": "code",
   "execution_count": 2,
   "id": "34dc7137",
   "metadata": {},
   "outputs": [
    {
     "name": "stderr",
     "output_type": "stream",
     "text": [
      "WARNING:absl:Compiled the loaded model, but the compiled metrics have yet to be built. `model.compile_metrics` will be empty until you train or evaluate the model.\n"
     ]
    },
    {
     "name": "stdout",
     "output_type": "stream",
     "text": [
      "✅ Model loaded: C:\\Users\\adity\\OneDrive\\Desktop\\ai moodmate\\models\\fer_tl.h5\n",
      "Model expects: (None, 96, 96, 3)\n"
     ]
    }
   ],
   "source": [
    "# ===============================\n",
    "# Cell 2: Load Model & Labels\n",
    "# ===============================\n",
    "# Path to your saved model (.h5)\n",
    "model_path = \"C:\\\\Users\\\\adity\\\\OneDrive\\\\Desktop\\\\ai moodmate\\\\models\\\\fer_tl.h5\"\n",
    "\n",
    "# Load model\n",
    "model = load_model(model_path)\n",
    "print(\"✅ Model loaded:\", model_path)\n",
    "\n",
    "# Labels (FER2013 common order)\n",
    "labels = [\"angry\",\"disgust\",\"fear\",\"happy\",\"sad\",\"surprise\",\"neutral\"]\n",
    "\n",
    "# Get model input details\n",
    "input_shape = model.input_shape\n",
    "img_size = input_shape[1]  # usually 48\n",
    "channels = input_shape[-1] # 1 or 3\n",
    "print(\"Model expects:\", input_shape)\n"
   ]
  },
  {
   "cell_type": "code",
   "execution_count": null,
   "id": "35f402bc",
   "metadata": {},
   "outputs": [],
   "source": [
    "\n",
    "def preprocess_face(face_img, img_size=48, model_channels=1):\n",
    "    gray = cv2.cvtColor(face_img, cv2.COLOR_BGR2GRAY)\n",
    "    resized = cv2.resize(gray, (img_size, img_size))\n",
    "    arr = resized.astype(\"float32\") / 255.0\n",
    "    if model_channels == 1:\n",
    "        arr = np.expand_dims(arr, -1)       # (48,48,1)\n",
    "    else:\n",
    "        arr = np.stack([arr, arr, arr], -1) # (48,48,3)\n",
    "    return arr\n",
    "\n",
    "def aggregate_probs(prob_deque, labels):\n",
    "    if not prob_deque:\n",
    "        return None, 0.0\n",
    "    sum_probs = np.sum([p for (_, p) in prob_deque], axis=0)\n",
    "    sum_probs = sum_probs / (np.sum(sum_probs) + 1e-9)\n",
    "    idx = np.argmax(sum_probs)\n",
    "    return labels[idx], float(sum_probs[idx])\n",
    "\n"
   ]
  },
  {
   "cell_type": "code",
   "execution_count": 5,
   "id": "5774e4b7",
   "metadata": {},
   "outputs": [
    {
     "name": "stdout",
     "output_type": "stream",
     "text": [
      "✅ Webcam started — press 'q' to quit\n"
     ]
    }
   ],
   "source": [
    "\n",
    "face_cascade = cv2.CascadeClassifier(cv2.data.haarcascades + \"haarcascade_frontalface_default.xml\")\n",
    "if face_cascade.empty():\n",
    "    raise RuntimeError(\"❌ Haar cascade not loaded!\")\n",
    "\n",
    "cap = cv2.VideoCapture(0)  # change index if multiple webcams\n",
    "if not cap.isOpened():\n",
    "    raise RuntimeError(\"❌ Could not open webcam!\")\n",
    "\n",
    "interval = 2.0  # seconds for smoothing\n",
    "prob_deque = deque()\n",
    "\n",
    "print(\"✅ Webcam started — press 'q' to quit\")\n",
    "\n",
    "while True:\n",
    "    ret, frame = cap.read()\n",
    "    if not ret:\n",
    "        break\n",
    "    \n",
    "    gray = cv2.cvtColor(frame, cv2.COLOR_BGR2GRAY)\n",
    "    faces = face_cascade.detectMultiScale(gray, 1.1, 5, minSize=(40,40))\n",
    "    now = time.time()\n",
    "\n",
    "    # Remove old predictions\n",
    "    while prob_deque and (now - prob_deque[0][0] > interval):\n",
    "        prob_deque.popleft()\n",
    "\n",
    "    for (x,y,w,h) in faces:\n",
    "        face_patch = frame[y:y+h, x:x+w]\n",
    "        inp = preprocess_face(face_patch, img_size=img_size, model_channels=channels)\n",
    "        inp_batch = np.expand_dims(inp, 0)\n",
    "        \n",
    "        probs = model.predict(inp_batch, verbose=0)[0]\n",
    "        label = labels[np.argmax(probs)]\n",
    "        conf  = np.max(probs)\n",
    "\n",
    "        prob_deque.append((now, probs))\n",
    "\n",
    "        cv2.rectangle(frame, (x,y), (x+w,y+h), (0,255,0), 2)\n",
    "        cv2.putText(frame, f\"{label} {conf*100:.1f}%\", (x,y-10),\n",
    "                    cv2.FONT_HERSHEY_SIMPLEX, 0.7, (0,255,0), 2)\n",
    "\n",
    "    agg_label, agg_conf = aggregate_probs(prob_deque, labels)\n",
    "    if agg_label:\n",
    "        cv2.putText(frame, f\"Smoothed: {agg_label} {agg_conf*100:.1f}%\", \n",
    "                    (10,30), cv2.FONT_HERSHEY_SIMPLEX, 0.8, (255,0,0), 2)\n",
    "\n",
    "    cv2.imshow(\"Emotion Detection\", frame)\n",
    "\n",
    "    if cv2.waitKey(1) & 0xFF == ord('q'):\n",
    "        break\n",
    "\n",
    "cap.release()\n",
    "cv2.destroyAllWindows()\n"
   ]
  }
 ],
 "metadata": {
  "kernelspec": {
   "display_name": "Python 3",
   "language": "python",
   "name": "python3"
  },
  "language_info": {
   "codemirror_mode": {
    "name": "ipython",
    "version": 3
   },
   "file_extension": ".py",
   "mimetype": "text/x-python",
   "name": "python",
   "nbconvert_exporter": "python",
   "pygments_lexer": "ipython3",
   "version": "3.10.9"
  }
 },
 "nbformat": 4,
 "nbformat_minor": 5
}
